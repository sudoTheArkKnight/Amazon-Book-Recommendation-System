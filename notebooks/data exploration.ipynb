{
 "cells": [
  {
   "cell_type": "code",
   "id": "initial_id",
   "metadata": {
    "collapsed": true,
    "ExecuteTime": {
     "end_time": "2024-08-24T11:48:31.045991Z",
     "start_time": "2024-08-24T11:48:29.749629Z"
    }
   },
   "source": [
    "import pandas as pd\n",
    "import numpy as np"
   ],
   "outputs": [],
   "execution_count": 5
  },
  {
   "metadata": {
    "ExecuteTime": {
     "end_time": "2024-08-24T11:56:30.803936Z",
     "start_time": "2024-08-24T11:56:30.724828Z"
    }
   },
   "cell_type": "code",
   "source": "data = pd.read_csv(\"A:/00BaseProjects/Amazon Book Recommendation System/data/Books_df.csv\")",
   "id": "92e0dbfcda82ad86",
   "outputs": [],
   "execution_count": 8
  },
  {
   "metadata": {
    "ExecuteTime": {
     "end_time": "2024-08-24T11:57:41.774276Z",
     "start_time": "2024-08-24T11:57:41.760418Z"
    }
   },
   "cell_type": "code",
   "source": "data.drop(\"Unnamed: 0\", axis=1, inplace=True)",
   "id": "b996dcd920490d0d",
   "outputs": [],
   "execution_count": 10
  },
  {
   "metadata": {
    "ExecuteTime": {
     "end_time": "2024-08-24T11:58:24.635493Z",
     "start_time": "2024-08-24T11:58:24.632627Z"
    }
   },
   "cell_type": "code",
   "source": "",
   "id": "da6b336294980726",
   "outputs": [],
   "execution_count": null
  }
 ],
 "metadata": {
  "kernelspec": {
   "display_name": "Python 3",
   "language": "python",
   "name": "python3"
  },
  "language_info": {
   "codemirror_mode": {
    "name": "ipython",
    "version": 2
   },
   "file_extension": ".py",
   "mimetype": "text/x-python",
   "name": "python",
   "nbconvert_exporter": "python",
   "pygments_lexer": "ipython2",
   "version": "2.7.6"
  }
 },
 "nbformat": 4,
 "nbformat_minor": 5
}
